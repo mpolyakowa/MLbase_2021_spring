{
 "cells": [
  {
   "cell_type": "code",
   "execution_count": 2,
   "metadata": {},
   "outputs": [],
   "source": [
    "import numpy as np"
   ]
  },
  {
   "cell_type": "code",
   "execution_count": 48,
   "metadata": {},
   "outputs": [],
   "source": [
    "file = np.loadtxt('HW2_labels.txt',  delimiter=',')\n",
    "y_predict, y_true = file[:, :2], file[:, -1]"
   ]
  },
  {
   "cell_type": "code",
   "execution_count": 49,
   "metadata": {},
   "outputs": [
    {
     "data": {
      "text/plain": [
       "array([[0.98352826, 0.01647175, 0.        ],\n",
       "       [0.7889117 , 0.21108827, 0.        ],\n",
       "       [0.32833612, 0.67166388, 1.        ],\n",
       "       ...,\n",
       "       [0.03518832, 0.96481168, 1.        ],\n",
       "       [0.33458501, 0.66541499, 1.        ],\n",
       "       [0.92001009, 0.07998994, 0.        ]])"
      ]
     },
     "execution_count": 49,
     "metadata": {},
     "output_type": "execute_result"
    }
   ],
   "source": [
    "file"
   ]
  },
  {
   "cell_type": "code",
   "execution_count": 50,
   "metadata": {},
   "outputs": [],
   "source": [
    "y_predict = np.asarray(y_predict)"
   ]
  },
  {
   "cell_type": "code",
   "execution_count": 51,
   "metadata": {},
   "outputs": [],
   "source": [
    "y_true = np.asarray(y_true)"
   ]
  },
  {
   "cell_type": "code",
   "execution_count": 63,
   "metadata": {},
   "outputs": [
    {
     "name": "stdout",
     "output_type": "stream",
     "text": [
      "(30000, 2)\n",
      "(30000,)\n"
     ]
    }
   ],
   "source": [
    "print(y_predict.shape)\n",
    "print(y_true.shape)"
   ]
  },
  {
   "cell_type": "code",
   "execution_count": 157,
   "metadata": {},
   "outputs": [],
   "source": [
    "def get_pred(y_true, y_predict, percent=None):\n",
    "    tmp =  np.vstack((y_predict[:,1], y_true)).T\n",
    "    tmp = np.flipud(tmp[tmp[:,0].argsort()])\n",
    "    threshold = 0.5 if percent == None else tmp[int(percent*tmp.shape[0]/100) -1, 0]\n",
    "    return np.array([1 if tmp[i,0] > threshold else 0 for i in range(tmp.shape[0])])"
   ]
  },
  {
   "cell_type": "code",
   "execution_count": 146,
   "metadata": {},
   "outputs": [
    {
     "name": "stdout",
     "output_type": "stream",
     "text": [
      "0.5\n"
     ]
    }
   ],
   "source": [
    "y_p = get_pred(y_true, y_predict, percent=None)\n",
    "    "
   ]
  },
  {
   "cell_type": "code",
   "execution_count": 147,
   "metadata": {},
   "outputs": [],
   "source": [
    "def accuracy_score(y_true, y_predict, percent=None):\n",
    "    y_pred = get_pred(y_true, y_predict, percent)\n",
    "    return np.mean(y_true == y_pred)"
   ]
  },
  {
   "cell_type": "code",
   "execution_count": 148,
   "metadata": {},
   "outputs": [
    {
     "name": "stdout",
     "output_type": "stream",
     "text": [
      "0.7287755012512207\n"
     ]
    },
    {
     "data": {
      "text/plain": [
       "0.6774666666666667"
      ]
     },
     "execution_count": 148,
     "metadata": {},
     "output_type": "execute_result"
    }
   ],
   "source": [
    "accuracy_score(y_true, y_predict, percent=13)"
   ]
  },
  {
   "cell_type": "code",
   "execution_count": 133,
   "metadata": {},
   "outputs": [
    {
     "data": {
      "text/plain": [
       "0.6119333333333333"
      ]
     },
     "execution_count": 133,
     "metadata": {},
     "output_type": "execute_result"
    }
   ],
   "source": [
    "from sklearn.metrics import accuracy_score as acc_lib\n",
    "acc_lib(y_true, y_p)\n"
   ]
  },
  {
   "cell_type": "code",
   "execution_count": 152,
   "metadata": {},
   "outputs": [],
   "source": [
    "def precision_score(y_true, y_predict, percent=None):\n",
    "    y_pred = get_pred(y_true, y_predict, percent)\n",
    "    TP = 0\n",
    "    FP = 0\n",
    "    for i in range(y_pred.shape[0]):\n",
    "        if (y_pred[i] == 1):\n",
    "            if (y_true[i] == 1):\n",
    "                TP += 1\n",
    "            else:\n",
    "                FP += 1\n",
    "    return TP/(TP+FP)"
   ]
  },
  {
   "cell_type": "code",
   "execution_count": 174,
   "metadata": {},
   "outputs": [
    {
     "data": {
      "text/plain": [
       "0.2639872722451608"
      ]
     },
     "execution_count": 174,
     "metadata": {},
     "output_type": "execute_result"
    }
   ],
   "source": [
    "precision_score(y_true, y_predict, percent=88)"
   ]
  },
  {
   "cell_type": "code",
   "execution_count": 154,
   "metadata": {},
   "outputs": [],
   "source": [
    "def recall_score(y_true, y_predict, percent=None):\n",
    "    y_pred = get_pred(y_true, y_predict, percent)\n",
    "    TP = 0\n",
    "    FN = 0\n",
    "    for i in range(y_pred.shape[0]):\n",
    "        if (y_true[i] == 1):\n",
    "            if (y_pred[i] == 1):\n",
    "                TP += 1\n",
    "            else:            \n",
    "                FN += 1\n",
    "    return TP/(TP+FN)"
   ]
  },
  {
   "cell_type": "code",
   "execution_count": 178,
   "metadata": {},
   "outputs": [
    {
     "data": {
      "text/plain": [
       "0.2604497522551137"
      ]
     },
     "execution_count": 178,
     "metadata": {},
     "output_type": "execute_result"
    }
   ],
   "source": [
    "recall_score(y_true, y_predict)"
   ]
  },
  {
   "cell_type": "code",
   "execution_count": 177,
   "metadata": {},
   "outputs": [
    {
     "data": {
      "text/plain": [
       "0.2604497522551137"
      ]
     },
     "execution_count": 177,
     "metadata": {},
     "output_type": "execute_result"
    }
   ],
   "source": [
    "from sklearn.metrics import recall_score as recall_lib\n",
    "recall_lib(y_true, y_p)"
   ]
  },
  {
   "cell_type": "code",
   "execution_count": 160,
   "metadata": {},
   "outputs": [],
   "source": [
    "def lift_score(y_true, y_predict, percent=None):\n",
    "    y_pred = get_pred(y_true, y_predict, percent)\n",
    "    TP = 0\n",
    "    TN = 0\n",
    "    FP = 0\n",
    "    FN = 0\n",
    "    for i in range(y_pred.shape[0]):\n",
    "        if (y_true[i] == 1):\n",
    "            if (y_pred[i] == 1):\n",
    "                TP += 1\n",
    "            else:            \n",
    "                FN += 1\n",
    "        else:\n",
    "            if (y_pred[i] == 1):\n",
    "                FP += 1\n",
    "            else:\n",
    "                TN += 1\n",
    "    return (TP/(TP+FP))/((TP+FN)/(TP+TN+FP+FN))"
   ]
  },
  {
   "cell_type": "code",
   "execution_count": 171,
   "metadata": {},
   "outputs": [
    {
     "data": {
      "text/plain": [
       "0.7393467149423245"
      ]
     },
     "execution_count": 171,
     "metadata": {},
     "output_type": "execute_result"
    }
   ],
   "source": [
    "lift_score(y_true, y_predict, percent=1)"
   ]
  },
  {
   "cell_type": "code",
   "execution_count": 166,
   "metadata": {},
   "outputs": [],
   "source": [
    "def f1_score(y_true, y_predict, percent=None):\n",
    "    precision = precision_score(y_true, y_predict, percent)\n",
    "    recall = recall_score(y_true, y_predict, percent)\n",
    "    return 2 * (precision * recall) / (precision + recall)"
   ]
  },
  {
   "cell_type": "code",
   "execution_count": 181,
   "metadata": {},
   "outputs": [
    {
     "data": {
      "text/plain": [
       "0.2604497522551137"
      ]
     },
     "execution_count": 181,
     "metadata": {},
     "output_type": "execute_result"
    }
   ],
   "source": [
    "f1_score(y_true, y_predict)"
   ]
  },
  {
   "cell_type": "code",
   "execution_count": 180,
   "metadata": {},
   "outputs": [
    {
     "data": {
      "text/plain": [
       "0.2604497522551137"
      ]
     },
     "execution_count": 180,
     "metadata": {},
     "output_type": "execute_result"
    }
   ],
   "source": [
    "from sklearn.metrics import f1_score as f1_lib\n",
    "f1_lib(y_true, y_p)"
   ]
  },
  {
   "cell_type": "code",
   "execution_count": null,
   "metadata": {},
   "outputs": [],
   "source": []
  }
 ],
 "metadata": {
  "kernelspec": {
   "display_name": "Python 3",
   "language": "python",
   "name": "python3"
  },
  "language_info": {
   "codemirror_mode": {
    "name": "ipython",
    "version": 3
   },
   "file_extension": ".py",
   "mimetype": "text/x-python",
   "name": "python",
   "nbconvert_exporter": "python",
   "pygments_lexer": "ipython3",
   "version": "3.8.5"
  }
 },
 "nbformat": 4,
 "nbformat_minor": 4
}
