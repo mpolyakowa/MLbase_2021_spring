{
 "cells": [
  {
   "cell_type": "markdown",
   "metadata": {
    "id": "0VGX6mZvgQO5"
   },
   "source": [
    "Sklearn - крутой инструмент для работы с основными методами ML, который содержит в себе всё необходимо для всех этапов построения модели.\n",
    "\n",
    "\n",
    "\n",
    "\n",
    "Как работать c классическими ML задачами в Sklearn:\n",
    "1. Загружаем/создаём выборку  \n",
    "2. Предобрабатываем\n",
    "3. Обучаем модель: fit()\n",
    "4. Запускаем на тесте: predict()\n",
    "5. Оцениваем качество\n",
    "\n",
    "\n",
    "Основные функции для обучения с учителем: \n",
    "\n",
    "* model.predict(X_test) - предсказать значения целевой переменной\n",
    "\n",
    "* model.predict_proba() - выдать «степень уверенности» в ответе (вероятность) – для некоторых моделей\n",
    "\n",
    "* model.decision_function() решающая функция – для некоторых моделей\n",
    "\n",
    "* model.score() - в большинстве моделей встроены методы оценки их качества работы\n",
    "\n",
    "* model.transform() - для отбора признаков (feature\n",
    "selection) «сжимает» обучающую матрицу. Для регрессионных моделей и классификаторов (linear, RF и т.п.) выделяет наиболее информативные признаки"
   ]
  },
  {
   "cell_type": "code",
   "execution_count": null,
   "metadata": {
    "colab": {
     "base_uri": "https://localhost:8080/"
    },
    "executionInfo": {
     "elapsed": 4537,
     "status": "ok",
     "timestamp": 1616005150647,
     "user": {
      "displayName": "IVAN GORBAN",
      "photoUrl": "https://lh3.googleusercontent.com/a-/AOh14GincQZ_N7O5HnZIWUJlO7les0N7UWDI34X2_hku=s64",
      "userId": "12196381778749198990"
     },
     "user_tz": -180
    },
    "id": "AMvHekCXnhVi",
    "outputId": "015a0d64-15e7-4a06-b52b-9a6439b19a1e"
   },
   "outputs": [],
   "source": [
    "#Установим последнюю версию Sklearn\n",
    "#!pip install -U scikit-learn"
   ]
  },
  {
   "cell_type": "code",
   "execution_count": null,
   "metadata": {
    "colab": {
     "base_uri": "https://localhost:8080/"
    },
    "executionInfo": {
     "elapsed": 4526,
     "status": "ok",
     "timestamp": 1616005150649,
     "user": {
      "displayName": "IVAN GORBAN",
      "photoUrl": "https://lh3.googleusercontent.com/a-/AOh14GincQZ_N7O5HnZIWUJlO7les0N7UWDI34X2_hku=s64",
      "userId": "12196381778749198990"
     },
     "user_tz": -180
    },
    "id": "7XRu23rrn5xd",
    "outputId": "44063d30-41f2-4283-9b94-35af794de381"
   },
   "outputs": [],
   "source": [
    "import sklearn\n",
    "sklearn.show_versions()"
   ]
  },
  {
   "cell_type": "markdown",
   "metadata": {
    "id": "jsETX0Cwrt47"
   },
   "source": [
    "# Загрузка данных из sklearn\n",
    "\n"
   ]
  },
  {
   "cell_type": "markdown",
   "metadata": {
    "id": "aZvh_Yug4X_D"
   },
   "source": [
    "Данные из датасета Калифорнийского университета в Ирвайн “Breast Cancer Wisconsin” (рак груди, Висконсин).   \n",
    "Характеристики - свойства клеточных ядер новообразования (например, строение), таргет - злокачественное или доброкачественное новообразование."
   ]
  },
  {
   "cell_type": "code",
   "execution_count": null,
   "metadata": {
    "id": "eT8hIAv6jlfn"
   },
   "outputs": [],
   "source": [
    "from sklearn.datasets import load_breast_cancer\n",
    "import pandas as pd\n",
    "\n",
    "import matplotlib.pyplot as plt"
   ]
  },
  {
   "cell_type": "code",
   "execution_count": null,
   "metadata": {
    "id": "3d7RCveUmu3n"
   },
   "outputs": [],
   "source": [
    "random_state = 42\n",
    "X, y = load_breast_cancer(return_X_y=True, as_frame = True)"
   ]
  },
  {
   "cell_type": "code",
   "execution_count": null,
   "metadata": {
    "colab": {
     "base_uri": "https://localhost:8080/",
     "height": 261
    },
    "executionInfo": {
     "elapsed": 658,
     "status": "ok",
     "timestamp": 1616004125645,
     "user": {
      "displayName": "IVAN GORBAN",
      "photoUrl": "https://lh3.googleusercontent.com/a-/AOh14GincQZ_N7O5HnZIWUJlO7les0N7UWDI34X2_hku=s64",
      "userId": "12196381778749198990"
     },
     "user_tz": -180
    },
    "id": "i3RM4_IPn3K5",
    "outputId": "f05107a3-acae-4e8e-b9b2-4f50d2a64630"
   },
   "outputs": [],
   "source": [
    "X.head()"
   ]
  },
  {
   "cell_type": "code",
   "execution_count": null,
   "metadata": {
    "colab": {
     "base_uri": "https://localhost:8080/",
     "height": 355
    },
    "executionInfo": {
     "elapsed": 588,
     "status": "ok",
     "timestamp": 1616004163209,
     "user": {
      "displayName": "IVAN GORBAN",
      "photoUrl": "https://lh3.googleusercontent.com/a-/AOh14GincQZ_N7O5HnZIWUJlO7les0N7UWDI34X2_hku=s64",
      "userId": "12196381778749198990"
     },
     "user_tz": -180
    },
    "id": "5t7gJn9gWoGs",
    "outputId": "ad021657-52d6-47c8-803c-91433891bb82"
   },
   "outputs": [],
   "source": [
    "X.describe()"
   ]
  },
  {
   "cell_type": "code",
   "execution_count": null,
   "metadata": {
    "colab": {
     "base_uri": "https://localhost:8080/"
    },
    "executionInfo": {
     "elapsed": 580,
     "status": "ok",
     "timestamp": 1616004227365,
     "user": {
      "displayName": "IVAN GORBAN",
      "photoUrl": "https://lh3.googleusercontent.com/a-/AOh14GincQZ_N7O5HnZIWUJlO7les0N7UWDI34X2_hku=s64",
      "userId": "12196381778749198990"
     },
     "user_tz": -180
    },
    "id": "tFkh8ePpHwGd",
    "outputId": "2e822ca6-eba3-42b6-d7f6-f705b89b2dc9"
   },
   "outputs": [],
   "source": [
    "y.shape"
   ]
  },
  {
   "cell_type": "code",
   "execution_count": null,
   "metadata": {
    "colab": {
     "base_uri": "https://localhost:8080/"
    },
    "executionInfo": {
     "elapsed": 670,
     "status": "ok",
     "timestamp": 1616004228867,
     "user": {
      "displayName": "IVAN GORBAN",
      "photoUrl": "https://lh3.googleusercontent.com/a-/AOh14GincQZ_N7O5HnZIWUJlO7les0N7UWDI34X2_hku=s64",
      "userId": "12196381778749198990"
     },
     "user_tz": -180
    },
    "id": "MTTWzyj8H4mJ",
    "outputId": "0ef69425-e0fe-4f29-90e7-64639ca9d498"
   },
   "outputs": [],
   "source": [
    "X.shape"
   ]
  },
  {
   "cell_type": "code",
   "execution_count": null,
   "metadata": {
    "colab": {
     "base_uri": "https://localhost:8080/"
    },
    "executionInfo": {
     "elapsed": 584,
     "status": "ok",
     "timestamp": 1616004238529,
     "user": {
      "displayName": "IVAN GORBAN",
      "photoUrl": "https://lh3.googleusercontent.com/a-/AOh14GincQZ_N7O5HnZIWUJlO7les0N7UWDI34X2_hku=s64",
      "userId": "12196381778749198990"
     },
     "user_tz": -180
    },
    "id": "Ir6z3w5tm8oL",
    "outputId": "e6799c5c-45cf-4ff6-aced-aa5e2259f8ff"
   },
   "outputs": [],
   "source": [
    "y.value_counts()"
   ]
  },
  {
   "cell_type": "code",
   "execution_count": null,
   "metadata": {
    "id": "ejObTnffm0xu"
   },
   "outputs": [],
   "source": [
    "from sklearn.model_selection import train_test_split\n",
    "\n",
    "#Разобьем выборку на train-test:\n",
    "\n",
    "X_train, X_test, y_train, y_test = \\\n",
    "    train_test_split(X, y, test_size=0.4, random_state=23)"
   ]
  },
  {
   "cell_type": "code",
   "execution_count": null,
   "metadata": {
    "colab": {
     "base_uri": "https://localhost:8080/"
    },
    "executionInfo": {
     "elapsed": 573,
     "status": "ok",
     "timestamp": 1616004346138,
     "user": {
      "displayName": "IVAN GORBAN",
      "photoUrl": "https://lh3.googleusercontent.com/a-/AOh14GincQZ_N7O5HnZIWUJlO7les0N7UWDI34X2_hku=s64",
      "userId": "12196381778749198990"
     },
     "user_tz": -180
    },
    "id": "4MXrWKsOoafr",
    "outputId": "8736a55d-8cb4-46d9-acb8-21976bcf52db"
   },
   "outputs": [],
   "source": [
    "X_train.shape"
   ]
  },
  {
   "cell_type": "code",
   "execution_count": null,
   "metadata": {
    "colab": {
     "base_uri": "https://localhost:8080/"
    },
    "executionInfo": {
     "elapsed": 754,
     "status": "ok",
     "timestamp": 1616004347393,
     "user": {
      "displayName": "IVAN GORBAN",
      "photoUrl": "https://lh3.googleusercontent.com/a-/AOh14GincQZ_N7O5HnZIWUJlO7les0N7UWDI34X2_hku=s64",
      "userId": "12196381778749198990"
     },
     "user_tz": -180
    },
    "id": "ffaKbkDJocVA",
    "outputId": "e6a8b062-d1ff-4f3e-bfed-4d2f451788c4"
   },
   "outputs": [],
   "source": [
    "X_test.shape"
   ]
  },
  {
   "cell_type": "markdown",
   "metadata": {
    "id": "bMJCLnjPr5QR"
   },
   "source": [
    "# Применение модели и оценка качества\n",
    "\n"
   ]
  },
  {
   "cell_type": "markdown",
   "metadata": {
    "id": "Pzr1Abr9tCj3"
   },
   "source": [
    "### Наивный Байес\n"
   ]
  },
  {
   "cell_type": "markdown",
   "metadata": {
    "id": "lbs-kQiNt2GT"
   },
   "source": [
    "https://scikit-learn.org/stable/modules/classes.html?highlight=naive%20bayes#module-sklearn.naive_bayes\n",
    "\n"
   ]
  },
  {
   "cell_type": "code",
   "execution_count": null,
   "metadata": {
    "colab": {
     "base_uri": "https://localhost:8080/"
    },
    "executionInfo": {
     "elapsed": 592,
     "status": "ok",
     "timestamp": 1616004384233,
     "user": {
      "displayName": "IVAN GORBAN",
      "photoUrl": "https://lh3.googleusercontent.com/a-/AOh14GincQZ_N7O5HnZIWUJlO7les0N7UWDI34X2_hku=s64",
      "userId": "12196381778749198990"
     },
     "user_tz": -180
    },
    "id": "KLfGVYJNtwZG",
    "outputId": "34f23c3a-16cd-45c6-d815-b211456acf91"
   },
   "outputs": [],
   "source": [
    "from sklearn.naive_bayes import  BernoulliNB\n",
    "\n",
    "classifier = BernoulliNB()\n",
    "classifier.fit(X_train, y_train)\n",
    "prediction = classifier.predict(X_test)\n",
    "\n",
    "prediction"
   ]
  },
  {
   "cell_type": "code",
   "execution_count": null,
   "metadata": {
    "id": "GnWOb5aitBRz"
   },
   "outputs": [],
   "source": [
    "from sklearn.naive_bayes import  MultinomialNB\n",
    "\n",
    "classifier = MultinomialNB()\n",
    "classifier.fit(X_train, y_train)\n",
    "prediction = classifier.predict(X_test)"
   ]
  },
  {
   "cell_type": "code",
   "execution_count": null,
   "metadata": {
    "colab": {
     "base_uri": "https://localhost:8080/"
    },
    "executionInfo": {
     "elapsed": 602,
     "status": "ok",
     "timestamp": 1616004427468,
     "user": {
      "displayName": "IVAN GORBAN",
      "photoUrl": "https://lh3.googleusercontent.com/a-/AOh14GincQZ_N7O5HnZIWUJlO7les0N7UWDI34X2_hku=s64",
      "userId": "12196381778749198990"
     },
     "user_tz": -180
    },
    "id": "YZq2jDQltRnc",
    "outputId": "72a3082c-48d3-464d-ecd8-73017a95ab23"
   },
   "outputs": [],
   "source": [
    "prediction"
   ]
  },
  {
   "cell_type": "code",
   "execution_count": null,
   "metadata": {
    "colab": {
     "base_uri": "https://localhost:8080/"
    },
    "executionInfo": {
     "elapsed": 652,
     "status": "ok",
     "timestamp": 1615972799354,
     "user": {
      "displayName": "IVAN GORBAN",
      "photoUrl": "https://lh3.googleusercontent.com/a-/AOh14GincQZ_N7O5HnZIWUJlO7les0N7UWDI34X2_hku=s64",
      "userId": "12196381778749198990"
     },
     "user_tz": -180
    },
    "id": "jSVR0sTGJh-W",
    "outputId": "8e05b56f-438c-4df0-85ad-5fcfaa529bd4"
   },
   "outputs": [],
   "source": [
    "y_test.values"
   ]
  },
  {
   "cell_type": "code",
   "execution_count": null,
   "metadata": {
    "colab": {
     "base_uri": "https://localhost:8080/"
    },
    "executionInfo": {
     "elapsed": 603,
     "status": "ok",
     "timestamp": 1616004509339,
     "user": {
      "displayName": "IVAN GORBAN",
      "photoUrl": "https://lh3.googleusercontent.com/a-/AOh14GincQZ_N7O5HnZIWUJlO7les0N7UWDI34X2_hku=s64",
      "userId": "12196381778749198990"
     },
     "user_tz": -180
    },
    "id": "eY-9USpuuTdw",
    "outputId": "0f013520-7074-4cd8-d607-1762be3cdd68"
   },
   "outputs": [],
   "source": [
    "import numpy as np\n",
    "\n",
    "print (np.mean(prediction == y_test))"
   ]
  },
  {
   "cell_type": "code",
   "execution_count": null,
   "metadata": {
    "id": "fWXWsbQkfEPP"
   },
   "outputs": [],
   "source": [
    "from sklearn.naive_bayes import  GaussianNB\n",
    "\n",
    "classifier = GaussianNB()\n",
    "classifier.fit(X_train, y_train)\n",
    "prediction = classifier.predict(X_test)"
   ]
  },
  {
   "cell_type": "code",
   "execution_count": null,
   "metadata": {
    "colab": {
     "base_uri": "https://localhost:8080/"
    },
    "executionInfo": {
     "elapsed": 657,
     "status": "ok",
     "timestamp": 1616004539684,
     "user": {
      "displayName": "IVAN GORBAN",
      "photoUrl": "https://lh3.googleusercontent.com/a-/AOh14GincQZ_N7O5HnZIWUJlO7les0N7UWDI34X2_hku=s64",
      "userId": "12196381778749198990"
     },
     "user_tz": -180
    },
    "id": "TPS4ohpPfJJP",
    "outputId": "b925d380-145c-462c-9623-77fd493bb09b"
   },
   "outputs": [],
   "source": [
    "print (np.mean(prediction == y_test))"
   ]
  },
  {
   "cell_type": "code",
   "execution_count": null,
   "metadata": {
    "ExecuteTime": {
     "end_time": "2021-03-20T17:39:39.827285Z",
     "start_time": "2021-03-20T17:39:39.825290Z"
    },
    "colab": {
     "base_uri": "https://localhost:8080/",
     "height": 1000
    },
    "executionInfo": {
     "elapsed": 753,
     "status": "ok",
     "timestamp": 1615972893407,
     "user": {
      "displayName": "IVAN GORBAN",
      "photoUrl": "https://lh3.googleusercontent.com/a-/AOh14GincQZ_N7O5HnZIWUJlO7les0N7UWDI34X2_hku=s64",
      "userId": "12196381778749198990"
     },
     "user_tz": -180
    },
    "id": "zq0VxPn_zX3K",
    "outputId": "7a7d1cc4-c700-4404-9735-60dd9ce84ba3"
   },
   "outputs": [],
   "source": [
    "#X_train.corr()"
   ]
  },
  {
   "cell_type": "code",
   "execution_count": null,
   "metadata": {
    "colab": {
     "base_uri": "https://localhost:8080/",
     "height": 1000
    },
    "executionInfo": {
     "elapsed": 48912,
     "status": "ok",
     "timestamp": 1616004787668,
     "user": {
      "displayName": "IVAN GORBAN",
      "photoUrl": "https://lh3.googleusercontent.com/a-/AOh14GincQZ_N7O5HnZIWUJlO7les0N7UWDI34X2_hku=s64",
      "userId": "12196381778749198990"
     },
     "user_tz": -180
    },
    "id": "AlYxoDyAYlQ5",
    "outputId": "b8026770-aef8-468e-f34b-92258961d4d0"
   },
   "outputs": [],
   "source": [
    "pd.plotting.scatter_matrix(X_train, figsize=(20,20));"
   ]
  },
  {
   "cell_type": "markdown",
   "metadata": {
    "id": "xBhSWZbFvHeb"
   },
   "source": [
    "Посмотреть какие параметры можно тюнить можно здесь:\n",
    "\n",
    "\n",
    "*   https://scikit-learn.org/stable/modules/naive_bayes.html#naive-bayes\n",
    "*   https://scikit-learn.org/stable/modules/generated/sklearn.naive_bayes.MultinomialNB.html?highlight=multinomialnb#sklearn.naive_bayes.MultinomialNB\n",
    "\n"
   ]
  },
  {
   "cell_type": "markdown",
   "metadata": {},
   "source": [
    "На основе увиденного на гистограммах возникает идея прологарифмировать (некоторые) признаки. Для иллюстративных целей прологарифмируем их все (что не стоит повторять :) )"
   ]
  },
  {
   "cell_type": "code",
   "execution_count": null,
   "metadata": {
    "id": "2DdMVtnzmUPF"
   },
   "outputs": [],
   "source": [
    "def logfunc(df, indices):\n",
    "  res = df.copy()\n",
    "  for i in indices:\n",
    "    res.iloc[:,i] = np.log1p(res.iloc[:,i])\n",
    "  return res\n"
   ]
  },
  {
   "cell_type": "code",
   "execution_count": null,
   "metadata": {
    "colab": {
     "base_uri": "https://localhost:8080/"
    },
    "executionInfo": {
     "elapsed": 584,
     "status": "ok",
     "timestamp": 1615974986866,
     "user": {
      "displayName": "IVAN GORBAN",
      "photoUrl": "https://lh3.googleusercontent.com/a-/AOh14GincQZ_N7O5HnZIWUJlO7les0N7UWDI34X2_hku=s64",
      "userId": "12196381778749198990"
     },
     "user_tz": -180
    },
    "id": "lXz_CyounIW5",
    "outputId": "f213b0df-928d-44b5-a9d0-2e1a2b1dcc20"
   },
   "outputs": [],
   "source": [
    "X_train.shape"
   ]
  },
  {
   "cell_type": "code",
   "execution_count": null,
   "metadata": {
    "colab": {
     "base_uri": "https://localhost:8080/"
    },
    "executionInfo": {
     "elapsed": 629,
     "status": "ok",
     "timestamp": 1615975001190,
     "user": {
      "displayName": "IVAN GORBAN",
      "photoUrl": "https://lh3.googleusercontent.com/a-/AOh14GincQZ_N7O5HnZIWUJlO7les0N7UWDI34X2_hku=s64",
      "userId": "12196381778749198990"
     },
     "user_tz": -180
    },
    "id": "bjXLBmjdmlxp",
    "outputId": "3912d43e-46ba-4e36-e1a9-328b0388ae1e"
   },
   "outputs": [],
   "source": [
    "#ind = [7,8,11,12,13,14, 15,16,17,19,20, 24,26,27]\n",
    "classifier = GaussianNB()\n",
    "classifier.fit(logfunc(X_train, range(30)), y_train)\n",
    "prediction = classifier.predict(logfunc(X_test, range(30)))\n",
    "\n",
    "print (np.mean(prediction == y_test))\n"
   ]
  },
  {
   "cell_type": "markdown",
   "metadata": {
    "id": "GqQmi4k61jm_"
   },
   "source": [
    "## Ближайшие соседи\n"
   ]
  },
  {
   "cell_type": "code",
   "execution_count": null,
   "metadata": {
    "id": "xzKqypLJLOuU"
   },
   "outputs": [],
   "source": [
    "import numpy as np"
   ]
  },
  {
   "cell_type": "markdown",
   "metadata": {
    "id": "Aubw1dhU1y8r"
   },
   "source": [
    "https://scikit-learn.org/stable/modules/generated/sklearn.neighbors.KNeighborsClassifier.html"
   ]
  },
  {
   "cell_type": "code",
   "execution_count": null,
   "metadata": {
    "colab": {
     "base_uri": "https://localhost:8080/"
    },
    "executionInfo": {
     "elapsed": 565,
     "status": "ok",
     "timestamp": 1615974189325,
     "user": {
      "displayName": "IVAN GORBAN",
      "photoUrl": "https://lh3.googleusercontent.com/a-/AOh14GincQZ_N7O5HnZIWUJlO7les0N7UWDI34X2_hku=s64",
      "userId": "12196381778749198990"
     },
     "user_tz": -180
    },
    "id": "v5nRKGGg1moV",
    "outputId": "b0d62b90-dbd9-4b0c-9c35-a219110bf254"
   },
   "outputs": [],
   "source": [
    "%%time\n",
    "from sklearn.neighbors import KNeighborsClassifier\n",
    "\n",
    "neigh = KNeighborsClassifier(n_neighbors=1)\n",
    "neigh.fit(X_train, y_train)\n",
    "\n",
    "prediction = neigh.predict(X_test)"
   ]
  },
  {
   "cell_type": "code",
   "execution_count": null,
   "metadata": {
    "colab": {
     "base_uri": "https://localhost:8080/"
    },
    "executionInfo": {
     "elapsed": 580,
     "status": "ok",
     "timestamp": 1615974190521,
     "user": {
      "displayName": "IVAN GORBAN",
      "photoUrl": "https://lh3.googleusercontent.com/a-/AOh14GincQZ_N7O5HnZIWUJlO7les0N7UWDI34X2_hku=s64",
      "userId": "12196381778749198990"
     },
     "user_tz": -180
    },
    "id": "nIMxnFzL2XHm",
    "outputId": "3b8d71e9-11f6-4e38-fb77-789f5efbaa9e"
   },
   "outputs": [],
   "source": [
    "print (np.mean(prediction == y_test))"
   ]
  },
  {
   "cell_type": "code",
   "execution_count": null,
   "metadata": {
    "colab": {
     "base_uri": "https://localhost:8080/"
    },
    "executionInfo": {
     "elapsed": 539,
     "status": "ok",
     "timestamp": 1615974200558,
     "user": {
      "displayName": "IVAN GORBAN",
      "photoUrl": "https://lh3.googleusercontent.com/a-/AOh14GincQZ_N7O5HnZIWUJlO7les0N7UWDI34X2_hku=s64",
      "userId": "12196381778749198990"
     },
     "user_tz": -180
    },
    "id": "co3eLsG_2Z3u",
    "outputId": "a4d117c4-96da-4dc6-9f53-d4f5a075b93f"
   },
   "outputs": [],
   "source": [
    "%%time\n",
    "neigh = KNeighborsClassifier(n_neighbors=5)\n",
    "neigh.fit(X_train, y_train)\n",
    "\n",
    "prediction = neigh.predict(X_test)\n",
    "\n",
    "print (np.mean(prediction == y_test))"
   ]
  },
  {
   "cell_type": "code",
   "execution_count": null,
   "metadata": {
    "colab": {
     "base_uri": "https://localhost:8080/"
    },
    "executionInfo": {
     "elapsed": 1262,
     "status": "ok",
     "timestamp": 1615974211594,
     "user": {
      "displayName": "IVAN GORBAN",
      "photoUrl": "https://lh3.googleusercontent.com/a-/AOh14GincQZ_N7O5HnZIWUJlO7les0N7UWDI34X2_hku=s64",
      "userId": "12196381778749198990"
     },
     "user_tz": -180
    },
    "id": "CfqUuLY22n1T",
    "outputId": "2034a29f-990c-4286-ad40-1006c94abc3c"
   },
   "outputs": [],
   "source": [
    "#Так и тянет сделать цикл\n",
    "%%time\n",
    "\n",
    "n_nb = range(1, 30)\n",
    "res = []\n",
    "\n",
    "for i in n_nb: \n",
    "    neigh = KNeighborsClassifier(n_neighbors=i)\n",
    "    neigh.fit(X_train, y_train)\n",
    "\n",
    "    prediction = neigh.predict(X_test)\n",
    "\n",
    "    res.append((np.mean(prediction == y_test)))"
   ]
  },
  {
   "cell_type": "code",
   "execution_count": null,
   "metadata": {
    "colab": {
     "base_uri": "https://localhost:8080/",
     "height": 296
    },
    "executionInfo": {
     "elapsed": 776,
     "status": "ok",
     "timestamp": 1615974215097,
     "user": {
      "displayName": "IVAN GORBAN",
      "photoUrl": "https://lh3.googleusercontent.com/a-/AOh14GincQZ_N7O5HnZIWUJlO7les0N7UWDI34X2_hku=s64",
      "userId": "12196381778749198990"
     },
     "user_tz": -180
    },
    "id": "J5kpfKZ525wm",
    "outputId": "ef5cf11c-efc3-4b82-d194-aabc9c394925"
   },
   "outputs": [],
   "source": [
    "plt.plot(n_nb, res)\n",
    "plt.xlabel(\"n_neighbors\")\n",
    "plt.ylabel(\"score\")\n",
    "plt.title(\"Score on KNeighborsClassifier\")\n",
    "plt.show()"
   ]
  },
  {
   "cell_type": "code",
   "execution_count": null,
   "metadata": {
    "colab": {
     "base_uri": "https://localhost:8080/"
    },
    "executionInfo": {
     "elapsed": 548,
     "status": "ok",
     "timestamp": 1615974262028,
     "user": {
      "displayName": "IVAN GORBAN",
      "photoUrl": "https://lh3.googleusercontent.com/a-/AOh14GincQZ_N7O5HnZIWUJlO7les0N7UWDI34X2_hku=s64",
      "userId": "12196381778749198990"
     },
     "user_tz": -180
    },
    "id": "ki59oh8vkdSj",
    "outputId": "cb88ffbf-764a-4034-d078-bfb5673fef79"
   },
   "outputs": [],
   "source": [
    "%%time\n",
    "neigh = KNeighborsClassifier(n_neighbors=9)\n",
    "neigh.fit(X_train, y_train)\n",
    "\n",
    "prediction = neigh.predict(X_test)\n",
    "\n",
    "print (np.mean(prediction == y_test))"
   ]
  },
  {
   "cell_type": "markdown",
   "metadata": {
    "id": "mQOzUopjs-wH"
   },
   "source": [
    "### Логистическая регрессия с помощью sklearn\n",
    "\n",
    "\n",
    "\n"
   ]
  },
  {
   "cell_type": "code",
   "execution_count": null,
   "metadata": {
    "id": "CWkZFyf3ohO1"
   },
   "outputs": [],
   "source": [
    "#Попробум применить логистическую регресиию:\n",
    "from sklearn.linear_model import LogisticRegression\n",
    "\n",
    "classifier = LogisticRegression(penalty =  'l2', max_iter = 5000)\n",
    "classifier.fit(X_train, y_train)\n",
    "prediction = classifier.predict(X_test)"
   ]
  },
  {
   "cell_type": "code",
   "execution_count": null,
   "metadata": {
    "colab": {
     "base_uri": "https://localhost:8080/"
    },
    "executionInfo": {
     "elapsed": 608,
     "status": "ok",
     "timestamp": 1615975043639,
     "user": {
      "displayName": "IVAN GORBAN",
      "photoUrl": "https://lh3.googleusercontent.com/a-/AOh14GincQZ_N7O5HnZIWUJlO7les0N7UWDI34X2_hku=s64",
      "userId": "12196381778749198990"
     },
     "user_tz": -180
    },
    "id": "FeeyoO5JpeG5",
    "outputId": "5da57947-be2f-40f5-cfc9-f598bbef07e5"
   },
   "outputs": [],
   "source": [
    "prediction[:10]"
   ]
  },
  {
   "cell_type": "code",
   "execution_count": null,
   "metadata": {
    "colab": {
     "base_uri": "https://localhost:8080/"
    },
    "executionInfo": {
     "elapsed": 646,
     "status": "ok",
     "timestamp": 1615975045109,
     "user": {
      "displayName": "IVAN GORBAN",
      "photoUrl": "https://lh3.googleusercontent.com/a-/AOh14GincQZ_N7O5HnZIWUJlO7les0N7UWDI34X2_hku=s64",
      "userId": "12196381778749198990"
     },
     "user_tz": -180
    },
    "id": "WUA7KO6IpvMS",
    "outputId": "2ac33545-f70c-4778-db6c-6d481d480a5d"
   },
   "outputs": [],
   "source": [
    "import numpy as np\n",
    "\n",
    "print (np.mean(prediction == y_test))\n",
    "print (classifier.score(X_test, y_test)) "
   ]
  },
  {
   "cell_type": "code",
   "execution_count": null,
   "metadata": {
    "colab": {
     "base_uri": "https://localhost:8080/"
    },
    "executionInfo": {
     "elapsed": 548,
     "status": "ok",
     "timestamp": 1615975049628,
     "user": {
      "displayName": "IVAN GORBAN",
      "photoUrl": "https://lh3.googleusercontent.com/a-/AOh14GincQZ_N7O5HnZIWUJlO7les0N7UWDI34X2_hku=s64",
      "userId": "12196381778749198990"
     },
     "user_tz": -180
    },
    "id": "r1Z9lcW3qKIs",
    "outputId": "3282b1fb-716f-43aa-b8ac-39972a943d48"
   },
   "outputs": [],
   "source": [
    "from sklearn.metrics import confusion_matrix\n",
    "print (confusion_matrix(y_test, prediction))"
   ]
  },
  {
   "cell_type": "code",
   "execution_count": null,
   "metadata": {
    "colab": {
     "base_uri": "https://localhost:8080/",
     "height": 279
    },
    "executionInfo": {
     "elapsed": 728,
     "status": "ok",
     "timestamp": 1615975050815,
     "user": {
      "displayName": "IVAN GORBAN",
      "photoUrl": "https://lh3.googleusercontent.com/a-/AOh14GincQZ_N7O5HnZIWUJlO7les0N7UWDI34X2_hku=s64",
      "userId": "12196381778749198990"
     },
     "user_tz": -180
    },
    "id": "o5rGQfcGrKVV",
    "outputId": "d37d026b-3cfb-433d-99c7-e643a7db17c2"
   },
   "outputs": [],
   "source": [
    "import matplotlib.pyplot as plt\n",
    "from sklearn.metrics import plot_confusion_matrix\n",
    "\n",
    "plot_confusion_matrix(classifier, X_test, y_test) \n",
    "plt.show()"
   ]
  },
  {
   "cell_type": "code",
   "execution_count": null,
   "metadata": {
    "colab": {
     "base_uri": "https://localhost:8080/"
    },
    "executionInfo": {
     "elapsed": 671,
     "status": "ok",
     "timestamp": 1615975053878,
     "user": {
      "displayName": "IVAN GORBAN",
      "photoUrl": "https://lh3.googleusercontent.com/a-/AOh14GincQZ_N7O5HnZIWUJlO7les0N7UWDI34X2_hku=s64",
      "userId": "12196381778749198990"
     },
     "user_tz": -180
    },
    "id": "Fxh52-LrqDm4",
    "outputId": "ac01e33e-c29c-42d2-d7cc-5c37188c9125"
   },
   "outputs": [],
   "source": [
    "from sklearn.metrics import classification_report\n",
    "print(classification_report(y_test, prediction))"
   ]
  },
  {
   "cell_type": "code",
   "execution_count": null,
   "metadata": {
    "colab": {
     "base_uri": "https://localhost:8080/"
    },
    "executionInfo": {
     "elapsed": 773,
     "status": "ok",
     "timestamp": 1615975059862,
     "user": {
      "displayName": "IVAN GORBAN",
      "photoUrl": "https://lh3.googleusercontent.com/a-/AOh14GincQZ_N7O5HnZIWUJlO7les0N7UWDI34X2_hku=s64",
      "userId": "12196381778749198990"
     },
     "user_tz": -180
    },
    "id": "F7aGUUtdvbeD",
    "outputId": "669b18a3-c52a-4853-bcca-3ffca56472aa"
   },
   "outputs": [],
   "source": [
    "classifier.coef_"
   ]
  },
  {
   "cell_type": "code",
   "execution_count": null,
   "metadata": {
    "colab": {
     "base_uri": "https://localhost:8080/",
     "height": 167
    },
    "executionInfo": {
     "elapsed": 818,
     "status": "ok",
     "timestamp": 1615975062139,
     "user": {
      "displayName": "IVAN GORBAN",
      "photoUrl": "https://lh3.googleusercontent.com/a-/AOh14GincQZ_N7O5HnZIWUJlO7les0N7UWDI34X2_hku=s64",
      "userId": "12196381778749198990"
     },
     "user_tz": -180
    },
    "id": "hEvHErvpv4ZI",
    "outputId": "884dbec1-3710-4d35-afd3-f09a61c909bd"
   },
   "outputs": [],
   "source": [
    "pd.DataFrame(data = [X_train.columns, classifier.coef_[0]])"
   ]
  },
  {
   "cell_type": "code",
   "execution_count": null,
   "metadata": {
    "colab": {
     "base_uri": "https://localhost:8080/"
    },
    "executionInfo": {
     "elapsed": 569,
     "status": "ok",
     "timestamp": 1615975063559,
     "user": {
      "displayName": "IVAN GORBAN",
      "photoUrl": "https://lh3.googleusercontent.com/a-/AOh14GincQZ_N7O5HnZIWUJlO7les0N7UWDI34X2_hku=s64",
      "userId": "12196381778749198990"
     },
     "user_tz": -180
    },
    "id": "yEBJ2tS-wRde",
    "outputId": "bfdf0a89-a260-4381-ba62-5f5f78a616e1"
   },
   "outputs": [],
   "source": [
    "classifier.intercept_[0]"
   ]
  },
  {
   "cell_type": "markdown",
   "metadata": {
    "id": "UTw_FhVs1bAr"
   },
   "source": [
    "### Логистическая регрессия с помощью StatsModels\n",
    "\n"
   ]
  },
  {
   "cell_type": "markdown",
   "metadata": {
    "id": "uoxjCAB-2FH5"
   },
   "source": [
    "https://www.statsmodels.org/stable/generated/statsmodels.discrete.discrete_model.Logit.html"
   ]
  },
  {
   "cell_type": "code",
   "execution_count": null,
   "metadata": {
    "id": "8DQ2p1LU1fVc"
   },
   "outputs": [],
   "source": [
    "import statsmodels.api as sm"
   ]
  },
  {
   "cell_type": "code",
   "execution_count": null,
   "metadata": {
    "colab": {
     "base_uri": "https://localhost:8080/"
    },
    "executionInfo": {
     "elapsed": 562,
     "status": "ok",
     "timestamp": 1615975587470,
     "user": {
      "displayName": "IVAN GORBAN",
      "photoUrl": "https://lh3.googleusercontent.com/a-/AOh14GincQZ_N7O5HnZIWUJlO7les0N7UWDI34X2_hku=s64",
      "userId": "12196381778749198990"
     },
     "user_tz": -180
    },
    "id": "GEiXaa-_poHN",
    "outputId": "536d9de1-c8d7-4807-a3d0-cb093a54ab27"
   },
   "outputs": [],
   "source": [
    "X_train[newcols].columns"
   ]
  },
  {
   "cell_type": "code",
   "execution_count": null,
   "metadata": {
    "colab": {
     "base_uri": "https://localhost:8080/"
    },
    "executionInfo": {
     "elapsed": 674,
     "status": "ok",
     "timestamp": 1615975850623,
     "user": {
      "displayName": "IVAN GORBAN",
      "photoUrl": "https://lh3.googleusercontent.com/a-/AOh14GincQZ_N7O5HnZIWUJlO7les0N7UWDI34X2_hku=s64",
      "userId": "12196381778749198990"
     },
     "user_tz": -180
    },
    "id": "spSL8qMPo8Zi",
    "outputId": "73328460-4e59-4337-d073-d1ea8e5f337a"
   },
   "outputs": [],
   "source": [
    "X_train['ones'] = 1\n",
    "X_test['ones'] = 1"
   ]
  },
  {
   "cell_type": "code",
   "execution_count": null,
   "metadata": {
    "colab": {
     "base_uri": "https://localhost:8080/"
    },
    "executionInfo": {
     "elapsed": 768,
     "status": "ok",
     "timestamp": 1615975864096,
     "user": {
      "displayName": "IVAN GORBAN",
      "photoUrl": "https://lh3.googleusercontent.com/a-/AOh14GincQZ_N7O5HnZIWUJlO7les0N7UWDI34X2_hku=s64",
      "userId": "12196381778749198990"
     },
     "user_tz": -180
    },
    "id": "JX_mRP71n6fL",
    "outputId": "4cd6a3ab-a01f-45e3-afe0-c2f68cdcece1"
   },
   "outputs": [],
   "source": [
    "model = sm.Logit(y_train, X_train[newcols+['ones']])\n",
    "result = model.fit(method='bfgs', maxiter=1000)"
   ]
  },
  {
   "cell_type": "code",
   "execution_count": null,
   "metadata": {
    "colab": {
     "base_uri": "https://localhost:8080/"
    },
    "executionInfo": {
     "elapsed": 703,
     "status": "ok",
     "timestamp": 1615975872338,
     "user": {
      "displayName": "IVAN GORBAN",
      "photoUrl": "https://lh3.googleusercontent.com/a-/AOh14GincQZ_N7O5HnZIWUJlO7les0N7UWDI34X2_hku=s64",
      "userId": "12196381778749198990"
     },
     "user_tz": -180
    },
    "id": "zF2V8PDx2VI0",
    "outputId": "8685933c-fb05-463c-8311-860e866fba96"
   },
   "outputs": [],
   "source": [
    "print (np.mean((result.predict(X_test[newcols+['ones']]) >= 0.5).astype(int).values == y_test))"
   ]
  },
  {
   "cell_type": "code",
   "execution_count": null,
   "metadata": {
    "colab": {
     "base_uri": "https://localhost:8080/"
    },
    "executionInfo": {
     "elapsed": 578,
     "status": "ok",
     "timestamp": 1615975874659,
     "user": {
      "displayName": "IVAN GORBAN",
      "photoUrl": "https://lh3.googleusercontent.com/a-/AOh14GincQZ_N7O5HnZIWUJlO7les0N7UWDI34X2_hku=s64",
      "userId": "12196381778749198990"
     },
     "user_tz": -180
    },
    "id": "W4dKLEuE2r5P",
    "outputId": "ea0499cc-5e8e-43bb-e861-91a83e8cf77f"
   },
   "outputs": [],
   "source": [
    "print(result.summary())"
   ]
  },
  {
   "cell_type": "markdown",
   "metadata": {},
   "source": [
    "Эту функцию я позаимствовал из открытого источника. Попробуйте переделать для работы с методом, используемым для обучения выше, а целью forward selection поставьте BIC.  Сколько фичей отберется и какое качество при этом вы получите?"
   ]
  },
  {
   "cell_type": "code",
   "execution_count": null,
   "metadata": {
    "id": "dDy7rK-Yse4U"
   },
   "outputs": [],
   "source": [
    "# Вот эту функцию вам потребуется модифицировать\n",
    "def forward_selected(data, response):\n",
    "    \"\"\"Linear model designed by forward selection.\n",
    "\n",
    "    Parameters:\n",
    "    -----------\n",
    "    data : pandas DataFrame with all possible predictors and response\n",
    "\n",
    "    response: string, name of response column in data\n",
    "\n",
    "    Returns:\n",
    "    --------\n",
    "    model: an \"optimal\" fitted statsmodels linear model\n",
    "           with an intercept\n",
    "           selected by forward selection\n",
    "           evaluated by adjusted R-squared\n",
    "    \"\"\"\n",
    "    remaining = set(data.columns)\n",
    "    remaining.remove(response)\n",
    "    selected = []\n",
    "    current_score, best_new_score = 0.0, 0.0\n",
    "    while remaining and current_score == best_new_score:\n",
    "        scores_with_candidates = []\n",
    "        for candidate in remaining:\n",
    "            formula = \"{} ~ {} + 1\".format(response,\n",
    "                                           ' + '.join(selected + [candidate]))\n",
    "            score = sm.Logit(data, response).fit(method='bfgs', maxiter=1000).rsquared_adj\n",
    "            scores_with_candidates.append((score, candidate))\n",
    "        scores_with_candidates.sort()\n",
    "        best_new_score, best_candidate = scores_with_candidates.pop()\n",
    "        if current_score < best_new_score:\n",
    "            remaining.remove(best_candidate)\n",
    "            selected.append(best_candidate)\n",
    "            current_score = best_new_score\n",
    "    formula = \"{} ~ {} + 1\".format(response,\n",
    "                                   ' + '.join(selected))\n",
    "    model = smf.ols(formula, data).fit()\n",
    "    return model"
   ]
  },
  {
   "cell_type": "code",
   "execution_count": null,
   "metadata": {
    "colab": {
     "base_uri": "https://localhost:8080/",
     "height": 130
    },
    "executionInfo": {
     "elapsed": 1075,
     "status": "error",
     "timestamp": 1615976394855,
     "user": {
      "displayName": "IVAN GORBAN",
      "photoUrl": "https://lh3.googleusercontent.com/a-/AOh14GincQZ_N7O5HnZIWUJlO7les0N7UWDI34X2_hku=s64",
      "userId": "12196381778749198990"
     },
     "user_tz": -180
    },
    "id": "0b4vRr4zsigh",
    "outputId": "525fc355-2e5c-4ff9-9833-c7f9888604fc"
   },
   "outputs": [],
   "source": [
    "forward_selected(X_train, y_train)"
   ]
  },
  {
   "cell_type": "markdown",
   "metadata": {
    "id": "p9REUlRi3pKq"
   },
   "source": [
    "***Задание: попробуйте получить скор на тесте > 0.95 любым из предложенных методов***"
   ]
  },
  {
   "cell_type": "markdown",
   "metadata": {
    "id": "8xmJ1Wwt3lK5"
   },
   "source": [
    "# Работа с регрессией"
   ]
  },
  {
   "cell_type": "code",
   "execution_count": null,
   "metadata": {
    "id": "4BvROABE68Yj"
   },
   "outputs": [],
   "source": [
    "from sklearn.datasets import load_boston"
   ]
  },
  {
   "cell_type": "code",
   "execution_count": null,
   "metadata": {
    "id": "bCF4tzyn8LSZ"
   },
   "outputs": [],
   "source": [
    "data = load_boston()\n",
    "X, y = data['data'], data['target']"
   ]
  },
  {
   "cell_type": "code",
   "execution_count": null,
   "metadata": {
    "colab": {
     "base_uri": "https://localhost:8080/",
     "height": 1000
    },
    "executionInfo": {
     "elapsed": 1376,
     "status": "ok",
     "timestamp": 1602094228691,
     "user": {
      "displayName": "Roman` Vasiliev",
      "photoUrl": "",
      "userId": "09372667948536239073"
     },
     "user_tz": -180
    },
    "id": "_DSdZL1f8F7o",
    "outputId": "4058cf5d-13cc-49cb-e413-f8f3f8767262"
   },
   "outputs": [],
   "source": [
    "data"
   ]
  },
  {
   "cell_type": "code",
   "execution_count": null,
   "metadata": {
    "colab": {
     "base_uri": "https://localhost:8080/",
     "height": 911
    },
    "executionInfo": {
     "elapsed": 2376,
     "status": "ok",
     "timestamp": 1602023256544,
     "user": {
      "displayName": "Roman` Vasiliev",
      "photoUrl": "",
      "userId": "09372667948536239073"
     },
     "user_tz": -180
    },
    "id": "0FDjAx0a8eWs",
    "outputId": "aae17e3a-0bbc-494e-f7e4-403dbed3047c"
   },
   "outputs": [],
   "source": [
    "print(data['DESCR'])"
   ]
  },
  {
   "cell_type": "code",
   "execution_count": null,
   "metadata": {
    "colab": {
     "base_uri": "https://localhost:8080/",
     "height": 51
    },
    "executionInfo": {
     "elapsed": 1111,
     "status": "ok",
     "timestamp": 1602094289594,
     "user": {
      "displayName": "Roman` Vasiliev",
      "photoUrl": "",
      "userId": "09372667948536239073"
     },
     "user_tz": -180
    },
    "id": "ffBbMnsM85G-",
    "outputId": "5f27e9e6-2664-40ae-f22e-62300d3df4d2"
   },
   "outputs": [],
   "source": [
    "data.feature_names"
   ]
  },
  {
   "cell_type": "code",
   "execution_count": null,
   "metadata": {
    "id": "UZmr5AC68kSf"
   },
   "outputs": [],
   "source": [
    "X_df = pd.DataFrame(data = X, columns=data.feature_names)\n",
    "y_df = pd.Series(y)"
   ]
  },
  {
   "cell_type": "code",
   "execution_count": null,
   "metadata": {
    "colab": {
     "base_uri": "https://localhost:8080/",
     "height": 203
    },
    "executionInfo": {
     "elapsed": 1244,
     "status": "ok",
     "timestamp": 1602094307431,
     "user": {
      "displayName": "Roman` Vasiliev",
      "photoUrl": "",
      "userId": "09372667948536239073"
     },
     "user_tz": -180
    },
    "id": "j1k0d1Q_9Mhy",
    "outputId": "5d74302d-95e2-4c91-fbb7-e9677a63e2f7"
   },
   "outputs": [],
   "source": [
    "X_df.head()"
   ]
  },
  {
   "cell_type": "code",
   "execution_count": null,
   "metadata": {
    "colab": {
     "base_uri": "https://localhost:8080/",
     "height": 295
    },
    "executionInfo": {
     "elapsed": 1192,
     "status": "ok",
     "timestamp": 1602094320668,
     "user": {
      "displayName": "Roman` Vasiliev",
      "photoUrl": "",
      "userId": "09372667948536239073"
     },
     "user_tz": -180
    },
    "id": "e_qNwctj9SjD",
    "outputId": "7abc1938-34ac-49a6-9645-48eea7006066"
   },
   "outputs": [],
   "source": [
    "X_df.describe()"
   ]
  },
  {
   "cell_type": "code",
   "execution_count": null,
   "metadata": {
    "id": "WE7lO33b9ekm"
   },
   "outputs": [],
   "source": [
    "X_train, X_test, y_train, y_test = \\\n",
    "    train_test_split(X_df, y_df, test_size=0.4, random_state=23, shuffle = False)"
   ]
  },
  {
   "cell_type": "code",
   "execution_count": null,
   "metadata": {
    "id": "pw3BH7hr9pJT"
   },
   "outputs": [],
   "source": [
    "from sklearn.linear_model import LinearRegression\n",
    "\n",
    "model = LinearRegression()\n",
    "model.fit(X_train, y_train)\n",
    "prediction = model.predict(X_test)"
   ]
  },
  {
   "cell_type": "code",
   "execution_count": null,
   "metadata": {
    "colab": {
     "base_uri": "https://localhost:8080/",
     "height": 34
    },
    "executionInfo": {
     "elapsed": 668,
     "status": "ok",
     "timestamp": 1602094599411,
     "user": {
      "displayName": "Roman` Vasiliev",
      "photoUrl": "",
      "userId": "09372667948536239073"
     },
     "user_tz": -180
    },
    "id": "X10kbNpX-BTl",
    "outputId": "f2164f6c-a998-4335-b902-5d74f71f8d2f"
   },
   "outputs": [],
   "source": [
    "from sklearn.metrics import mean_absolute_error\n",
    "mean_absolute_error(prediction, y_test)"
   ]
  },
  {
   "cell_type": "code",
   "execution_count": null,
   "metadata": {
    "colab": {
     "base_uri": "https://localhost:8080/",
     "height": 68
    },
    "executionInfo": {
     "elapsed": 787,
     "status": "ok",
     "timestamp": 1602094606959,
     "user": {
      "displayName": "Roman` Vasiliev",
      "photoUrl": "",
      "userId": "09372667948536239073"
     },
     "user_tz": -180
    },
    "id": "vojlpqtk-K1Y",
    "outputId": "1b7e1fc5-3fed-478c-af04-5de95cee9be4"
   },
   "outputs": [],
   "source": [
    "model.coef_"
   ]
  },
  {
   "cell_type": "code",
   "execution_count": null,
   "metadata": {
    "colab": {
     "base_uri": "https://localhost:8080/",
     "height": 34
    },
    "executionInfo": {
     "elapsed": 1552,
     "status": "ok",
     "timestamp": 1602094706088,
     "user": {
      "displayName": "Roman` Vasiliev",
      "photoUrl": "",
      "userId": "09372667948536239073"
     },
     "user_tz": -180
    },
    "id": "qK0JGXJ__G3M",
    "outputId": "1eecff6d-4e3c-4db8-aa6b-07f0a2189c29"
   },
   "outputs": [],
   "source": [
    "from sklearn.linear_model import Ridge\n",
    "\n",
    "model = Ridge(alpha = 5)\n",
    "model.fit(X_train, y_train)\n",
    "prediction = model.predict(X_test)\n",
    "mean_absolute_error(prediction, y_test)"
   ]
  },
  {
   "cell_type": "code",
   "execution_count": null,
   "metadata": {
    "colab": {
     "base_uri": "https://localhost:8080/",
     "height": 85
    },
    "executionInfo": {
     "elapsed": 616,
     "status": "ok",
     "timestamp": 1602094714861,
     "user": {
      "displayName": "Roman` Vasiliev",
      "photoUrl": "",
      "userId": "09372667948536239073"
     },
     "user_tz": -180
    },
    "id": "OZOoZjQjBIWO",
    "outputId": "1efa3709-b88b-40dc-d728-b72ab33e8489"
   },
   "outputs": [],
   "source": [
    "model.coef_"
   ]
  },
  {
   "cell_type": "markdown",
   "metadata": {
    "id": "DLcLggzX_mcE"
   },
   "source": [
    "Сделайте перебор параметра с помощью цикла. При каком параметре будет наилучшее качество?\n",
    " "
   ]
  },
  {
   "cell_type": "code",
   "execution_count": null,
   "metadata": {
    "colab": {
     "base_uri": "https://localhost:8080/",
     "height": 171
    },
    "executionInfo": {
     "elapsed": 909,
     "status": "ok",
     "timestamp": 1602094826082,
     "user": {
      "displayName": "Roman` Vasiliev",
      "photoUrl": "",
      "userId": "09372667948536239073"
     },
     "user_tz": -180
    },
    "id": "x2zJ4qqwBJot",
    "outputId": "66283926-569f-4bbb-d634-82514e184ba6"
   },
   "outputs": [],
   "source": [
    "X_train['RAD'].value_counts()"
   ]
  },
  {
   "cell_type": "code",
   "execution_count": null,
   "metadata": {
    "id": "sbAytNMr-Kx1"
   },
   "outputs": [],
   "source": [
    "from sklearn.preprocessing import OneHotEncoder\n",
    "\n",
    "\n",
    "enc = OneHotEncoder(handle_unknown='ignore')\n",
    "\n",
    "enc_df_train = pd.DataFrame(enc.fit_transform(X_train[['RAD']]).toarray())\n",
    "enc_df_test = pd.DataFrame(enc.fit_transform(X_test[['RAD']]).toarray())\n",
    "\n",
    "enc_df_train.columns = ['RAD_' + str(i) for i in range(len(enc_df_train.columns))]\n",
    "enc_df_test.columns = ['RAD_' + str(i) for i in range(len(enc_df_test.columns))]\n"
   ]
  },
  {
   "cell_type": "code",
   "execution_count": null,
   "metadata": {
    "colab": {
     "base_uri": "https://localhost:8080/",
     "height": 223
    },
    "executionInfo": {
     "elapsed": 1024,
     "status": "ok",
     "timestamp": 1602023633057,
     "user": {
      "displayName": "Roman` Vasiliev",
      "photoUrl": "",
      "userId": "09372667948536239073"
     },
     "user_tz": -180
    },
    "id": "Ta6rJVsa-Ihq",
    "outputId": "ce57da45-0f87-4012-c9c0-ae28a11414f3"
   },
   "outputs": [],
   "source": [
    "for i in enc_df_train:\n",
    "  X_train[i] = enc_df_train[i].values\n",
    "\n",
    "for i in enc_df_test:\n",
    "  X_test[i] = enc_df_test[i].values"
   ]
  },
  {
   "cell_type": "code",
   "execution_count": null,
   "metadata": {
    "id": "1Z2_IzK_DB_z"
   },
   "outputs": [],
   "source": [
    "X_train = X_train.drop('RAD', axis = 1)\n",
    "X_test = X_test.drop('RAD', axis = 1)"
   ]
  },
  {
   "cell_type": "code",
   "execution_count": null,
   "metadata": {
    "colab": {
     "base_uri": "https://localhost:8080/",
     "height": 34
    },
    "executionInfo": {
     "elapsed": 860,
     "status": "ok",
     "timestamp": 1602023687421,
     "user": {
      "displayName": "Roman` Vasiliev",
      "photoUrl": "",
      "userId": "09372667948536239073"
     },
     "user_tz": -180
    },
    "id": "jcG1D5UpDVu7",
    "outputId": "078fadd6-9eb8-441b-aa95-f18ad3dbb49e"
   },
   "outputs": [],
   "source": [
    "model = Ridge(alpha = 5)\n",
    "model.fit(X_train, y_train)\n",
    "prediction = model.predict(X_test)\n",
    "mean_absolute_error(prediction, y_test)"
   ]
  }
 ],
 "metadata": {
  "colab": {
   "collapsed_sections": [],
   "name": "2_seminar.ipynb",
   "provenance": [
    {
     "file_id": "1DnYWBFZnS1mtYJ0hgh7UJnj1uwjm2naC",
     "timestamp": 1615972635853
    }
   ]
  },
  "kernelspec": {
   "display_name": "Python 3",
   "language": "python",
   "name": "python3"
  },
  "language_info": {
   "codemirror_mode": {
    "name": "ipython",
    "version": 3
   },
   "file_extension": ".py",
   "mimetype": "text/x-python",
   "name": "python",
   "nbconvert_exporter": "python",
   "pygments_lexer": "ipython3",
   "version": "3.8.5"
  },
  "latex_envs": {
   "LaTeX_envs_menu_present": true,
   "autoclose": false,
   "autocomplete": true,
   "bibliofile": "biblio.bib",
   "cite_by": "apalike",
   "current_citInitial": 1,
   "eqLabelWithNumbers": true,
   "eqNumInitial": 1,
   "hotkeys": {
    "equation": "Ctrl-E",
    "itemize": "Ctrl-I"
   },
   "labels_anchors": false,
   "latex_user_defs": false,
   "report_style_numbering": false,
   "user_envs_cfg": false
  },
  "toc": {
   "base_numbering": 1,
   "nav_menu": {},
   "number_sections": true,
   "sideBar": true,
   "skip_h1_title": false,
   "title_cell": "Table of Contents",
   "title_sidebar": "Contents",
   "toc_cell": false,
   "toc_position": {},
   "toc_section_display": true,
   "toc_window_display": false
  },
  "varInspector": {
   "cols": {
    "lenName": 16,
    "lenType": 16,
    "lenVar": 40
   },
   "kernels_config": {
    "python": {
     "delete_cmd_postfix": "",
     "delete_cmd_prefix": "del ",
     "library": "var_list.py",
     "varRefreshCmd": "print(var_dic_list())"
    },
    "r": {
     "delete_cmd_postfix": ") ",
     "delete_cmd_prefix": "rm(",
     "library": "var_list.r",
     "varRefreshCmd": "cat(var_dic_list()) "
    }
   },
   "types_to_exclude": [
    "module",
    "function",
    "builtin_function_or_method",
    "instance",
    "_Feature"
   ],
   "window_display": false
  }
 },
 "nbformat": 4,
 "nbformat_minor": 1
}
